{
 "cells": [
  {
   "cell_type": "code",
   "execution_count": 1,
   "id": "6664654f",
   "metadata": {},
   "outputs": [],
   "source": [
    "#class dijkstra\n",
    "import heapq\n",
    "\n",
    "class Dijkstra:\n",
    "    def __init__(self, graph):\n",
    "        self.graph = graph\n",
    "        self.distances = {}\n",
    "        self.previous = {}\n",
    "        self.visited = set()\n",
    "\n",
    "    def run(self, start_vertex):\n",
    "        self.visited = set()\n",
    "        self.distances = {v: float('inf') for v in self.graph.vertices}\n",
    "        self.previous = {v: None for v in self.graph.vertices}\n",
    "        self.distances[start_vertex] = 0\n",
    "\n",
    "        pq = [(0, start_vertex)] \n",
    "\n",
    "        while pq:\n",
    "            current_distance, current_vertex = heapq.heappop(pq)\n",
    "\n",
    "            if current_vertex in self.visited:\n",
    "                continue\n",
    "            self.visited.add(current_vertex)\n",
    "\n",
    "            for neighbor, weight in self.graph.adjacency_list[current_vertex]:\n",
    "                distance = current_distance + weight\n",
    "                if distance < self.distances[neighbor]:\n",
    "                    self.distances[neighbor] = distance\n",
    "                    self.previous[neighbor] = current_vertex\n",
    "                    heapq.heappush(pq, (distance, neighbor))\n",
    "\n",
    "    def get_shortest_path(self, start, end):\n",
    "        path = []\n",
    "        current = end\n",
    "        while current is not None:\n",
    "            path.insert(0, current)\n",
    "            current = self.previous[current]\n",
    "        return path, self.distances[end]\n",
    "\n",
    "    def print_result(self, start, end):\n",
    "        path, distance = self.get_shortest_path(start, end)\n",
    "        print(f\"đường đi ngắn nhất từ {start} đến {end}: {' → '.join(path)}\")\n",
    "        print(f\"độ dài đường đi: {distance}\")\n"
   ]
  }
 ],
 "metadata": {
  "kernelspec": {
   "display_name": "Orange",
   "language": "python",
   "name": "python3"
  },
  "language_info": {
   "codemirror_mode": {
    "name": "ipython",
    "version": 3
   },
   "file_extension": ".py",
   "mimetype": "text/x-python",
   "name": "python",
   "nbconvert_exporter": "python",
   "pygments_lexer": "ipython3",
   "version": "3.11.8"
  }
 },
 "nbformat": 4,
 "nbformat_minor": 5
}
