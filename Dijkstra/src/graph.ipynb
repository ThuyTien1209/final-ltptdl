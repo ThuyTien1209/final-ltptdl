{
 "cells": [
  {
   "cell_type": "code",
   "execution_count": 1,
   "metadata": {},
   "outputs": [],
   "source": [
    "import pandas as pd\n",
    "from collections import defaultdict, deque"
   ]
  },
  {
   "cell_type": "code",
   "execution_count": 3,
   "metadata": {},
   "outputs": [],
   "source": [
    "class Graph:\n",
    "    def __init__(self):\n",
    "        self.adj_list = defaultdict(list)\n",
    "        self.vertices = set()    \n",
    "\n",
    "# Quản lý cạnh, đỉnh\n",
    "    def add_edges(self, v_from, v_to, weight):\n",
    "        weight = float(weight)\n",
    "        self.adj_list[v_from].append((v_to, weight))\n",
    "        self.adj_list[v_to].append((v_from, weight))  \n",
    "        self.vertices.update([v_from, v_to])\n",
    "    \n",
    "    def remove_edge(self, v_from, v_to):\n",
    "        self.adj_list[v_from] = [(v, w) for v, w in self.adj_list[v_from] if v != v_to]\n",
    "        self.adj_list[v_to] = [(v, w) for v, w in self.adj_list[v_to] if v != v_from]\n",
    "    \n",
    "    def add_vertex(self, v: str):\n",
    "        if v not in self.vertices:\n",
    "            self.vertices.add(v)\n",
    "            _ = self.adj_list[v]\n",
    "    \n",
    "    def remove_vertex(self, v):\n",
    "        if v not in self.vertices:\n",
    "            return\n",
    "        for u in list(self.adj_list.keys()):\n",
    "            self.adj_list[u] = [(nbr, w) for nbr, w in self.adj_list[u] if nbr != v]\n",
    "        self.adj_list.pop(v, None)\n",
    "        self.vertices.remove(v)\n",
    "\n",
    "# Tra cứu thông tin\n",
    "    def get_neighbors(self, vertex):\n",
    "        return self.adj_list.get(vertex, [])\n",
    "    \n",
    "    def degree(self, vertex):\n",
    "        return len(self.adj_list.get(vertex, []))\n",
    "    \n",
    "    def edge_weight(self, u, v):\n",
    "        for nbr, w in self.adj_list.get(u, []):\n",
    "            if nbr == v:\n",
    "                return w\n",
    "        return None\n",
    "\n",
    "# Đặc tính đồ thị   \n",
    "    def num_vertices(self):\n",
    "        return len(self.vertices)\n",
    "    \n",
    "    def num_edges(self):\n",
    "        return sum(len(nbrs) for nbrs in self.adj_list.values()) // 2\n",
    "    \n",
    "    def is_connected(self):\n",
    "        if not self.vertices:\n",
    "            return True\n",
    "        start = next(iter(self.vertices))\n",
    "        visited = set([start])\n",
    "        q = deque([start])\n",
    "        while q:\n",
    "            u = q.popleft()\n",
    "            for v, _ in self.adj_list[u]:\n",
    "                if v not in visited:\n",
    "                    visited.add(v)\n",
    "                    q.append(v)\n",
    "        return len(visited) == len(self.vertices)\n",
    "\n",
    "    def has_negative_weight(self):\n",
    "        return any(w < 0 for nbrs in self.adj_list.values() for _, w in nbrs)\n",
    "    \n",
    "# Load file\n",
    "    def load_csv(self, file_path):\n",
    "        try:\n",
    "            df = pd.read_csv(file_path)\n",
    "        except Exception as e:\n",
    "            raise ValueError(f\"Lỗi khi đọc file CSV: {e}\")\n",
    "        required_cols = {'v_from', 'v_to', 'weight'}\n",
    "        if not required_cols.issubset(df.columns):\n",
    "            raise ValueError(f\"File CSV phải có đủ các cột: {required_cols}\")\n",
    "        for _, row in df.iterrows():\n",
    "            self.add_edges(row['v_from'], row['v_to'], row['weight'])\n",
    "        print(f\"Đã nạp {len(df)} cạnh từ file '{file_path}'.\")\n",
    "\n",
    "# Hiển thị danh sách kề    \n",
    "    def show_graph(self):\n",
    "        print(\"Danh sách kề của đồ thị:\")\n",
    "        for v in sorted(self.adj_list.keys()):\n",
    "            edges = ', '.join([f\"{nbr}({w})\" for nbr, w in self.adj_list[v]])\n",
    "            print(f\"  {v} -> {edges}\")"
   ]
  },
  {
   "cell_type": "code",
   "execution_count": 8,
   "metadata": {},
   "outputs": [
    {
     "name": "stdout",
     "output_type": "stream",
     "text": [
      "Đã nạp 17 cạnh từ file '../data/Graph.csv'.\n",
      "Danh sách kề của đồ thị:\n",
      "  California -> Tennessee(8100.0), Houston(4700.0), Colorado(1900.0), Wyoming(2900.0), Oregon(1000.0)\n",
      "  Colorado -> Michigan(4300.0), California(1900.0), Oregon(3400.0), Houston(9700.0), Kansas(3500.0)\n",
      "  Houston -> California(4700.0), Colorado(9700.0), Kansas(7800.0)\n",
      "  Kansas -> Michigan(6600.0), Tennessee(4100.0), Colorado(3500.0), Houston(7800.0)\n",
      "  Michigan -> Tennessee(6600.0), Wyoming(5800.0), Colorado(4300.0), Kansas(6600.0)\n",
      "  Montana -> Tennessee(7800.0), Oregon(1300.0)\n",
      "  Oregon -> California(1000.0), Montana(1300.0), Wyoming(2500.0), Colorado(3400.0)\n",
      "  Tennessee -> Michigan(6600.0), Kansas(4100.0), California(8100.0), Montana(7800.0)\n",
      "  Wyoming -> Michigan(5800.0), California(2900.0), Oregon(2500.0)\n"
     ]
    }
   ],
   "source": [
    "# Khởi tạo và nạp dữ liệu\n",
    "g = Graph()\n",
    "g.load_csv(\"../data/Graph.csv\")\n",
    "g.show_graph()"
   ]
  },
  {
   "cell_type": "code",
   "execution_count": 12,
   "metadata": {},
   "outputs": [
    {
     "name": "stdout",
     "output_type": "stream",
     "text": [
      "\n",
      "Các đỉnh kề của California: [('Tennessee', 8100.0), ('Houston', 4700.0), ('Colorado', 1900.0), ('Wyoming', 2900.0), ('Oregon', 1000.0)] \n",
      "\n",
      "Bậc của California = 5\n",
      "Bậc của Colorado = 5\n",
      "Bậc của Houston = 3\n",
      "Bậc của Kansas = 4\n",
      "Bậc của Michigan = 4\n",
      "Bậc của Montana = 2\n",
      "Bậc của Oregon = 4\n",
      "Bậc của Tennessee = 4\n",
      "Bậc của Wyoming = 3\n",
      "\n",
      "Trọng số cạnh Montana-Tennessee: 7800.0\n"
     ]
    }
   ],
   "source": [
    "print(\"\\nCác đỉnh kề của California:\", g.get_neighbors(\"California\"), '\\n')\n",
    "for v in sorted(g.vertices):\n",
    "    print(f\"Bậc của {v} = {g.degree(v)}\")\n",
    "print()\n",
    "print(\"Trọng số cạnh Montana-Tennessee:\", g.edge_weight(\"Montana\", \"Tennessee\"))"
   ]
  },
  {
   "cell_type": "code",
   "execution_count": 14,
   "metadata": {},
   "outputs": [
    {
     "name": "stdout",
     "output_type": "stream",
     "text": [
      "Số đỉnh: 9\n",
      "Số cạnh: 17\n",
      "Đồ thị có liên thông không? True\n",
      "Có trọng số âm không? False\n"
     ]
    }
   ],
   "source": [
    "print(\"Số đỉnh:\", g.num_vertices())\n",
    "print(\"Số cạnh:\", g.num_edges())\n",
    "print(\"Đồ thị có liên thông không?\", g.is_connected())\n",
    "print(\"Có trọng số âm không?\", g.has_negative_weight())"
   ]
  }
 ],
 "metadata": {
  "kernelspec": {
   "display_name": "base",
   "language": "python",
   "name": "python3"
  },
  "language_info": {
   "codemirror_mode": {
    "name": "ipython",
    "version": 3
   },
   "file_extension": ".py",
   "mimetype": "text/x-python",
   "name": "python",
   "nbconvert_exporter": "python",
   "pygments_lexer": "ipython3",
   "version": "3.12.5"
  }
 },
 "nbformat": 4,
 "nbformat_minor": 2
}
