{
 "cells": [
  {
   "cell_type": "code",
   "execution_count": 1,
   "metadata": {},
   "outputs": [],
   "source": [
    "import pandas as pd\n",
    "from collections import defaultdict"
   ]
  },
  {
   "cell_type": "code",
   "execution_count": 13,
   "metadata": {},
   "outputs": [],
   "source": [
    "class Graph:\n",
    "\n",
    "    def __init__(self):\n",
    "        self.adj_list = defaultdict(list)\n",
    "        self.vertices = set()    \n",
    "\n",
    "    def add_edges(self, v_from, v_to, weight):\n",
    "        weight = float(weight)\n",
    "        self.adj_list[v_from].append((v_to, weight))\n",
    "        self.adj_list[v_to].append((v_from, weight))  # vì vô hướng\n",
    "        self.vertices.update([v_from, v_to])\n",
    "    \n",
    "    def load_csv(self, file_path):\n",
    "        try:\n",
    "            df = pd.read_csv(file_path)\n",
    "        except Exception as e:\n",
    "            raise ValueError(f\"Lỗi khi đọc file CSV: {e}\")\n",
    "\n",
    "        required_cols = {'v_from', 'v_to', 'weight'}\n",
    "        if not required_cols.issubset(df.columns):\n",
    "            raise ValueError(f\"File CSV phải có đủ các cột: {required_cols}\")\n",
    "\n",
    "        for _, row in df.iterrows():\n",
    "            self.add_edges(row['v_from'], row['v_to'], row['weight'])\n",
    "\n",
    "        print(f\"Đã nạp {len(df)} cạnh từ file '{file_path}'.\")\n",
    "\n",
    "    def get_neighbors(self, vertex):\n",
    "        return self.adj_list.get(vertex, [])\n",
    "    \n",
    "    def show_graph(self):\n",
    "        print(\"Danh sách kề của đồ thị:\")\n",
    "        for v in sorted(self.adj_list.keys()):\n",
    "            edges = ', '.join([f\"{nbr}({w})\" for nbr, w in self.adj_list[v]])\n",
    "            print(f\"  {v} -> {edges}\")"
   ]
  },
  {
   "cell_type": "code",
   "execution_count": 14,
   "metadata": {},
   "outputs": [
    {
     "name": "stdout",
     "output_type": "stream",
     "text": [
      "Đã nạp 17 cạnh từ file '../data/Graph.csv'.\n",
      "Danh sách kề của đồ thị:\n",
      "  California -> Tennessee(8100.0), Houston(4700.0), Colorado(1900.0), Wyoming(2900.0), Oregon(1000.0)\n",
      "  Colorado -> Michigan(4300.0), California(1900.0), Oregon(3400.0), Houston(9700.0), Kansas(3500.0)\n",
      "  Houston -> California(4700.0), Colorado(9700.0), Kansas(7800.0)\n",
      "  Kansas -> Michigan(6600.0), Tennessee(4100.0), Colorado(3500.0), Houston(7800.0)\n",
      "  Michigan -> Tennessee(6600.0), Wyoming(5800.0), Colorado(4300.0), Kansas(6600.0)\n",
      "  Montana -> Tennessee(7800.0), Oregon(1300.0)\n",
      "  Oregon -> California(1000.0), Montana(1300.0), Wyoming(2500.0), Colorado(3400.0)\n",
      "  Tennessee -> Michigan(6600.0), Kansas(4100.0), California(8100.0), Montana(7800.0)\n",
      "  Wyoming -> Michigan(5800.0), California(2900.0), Oregon(2500.0)\n",
      "\n",
      "Các đỉnh kề của California: [('Tennessee', 8100.0), ('Houston', 4700.0), ('Colorado', 1900.0), ('Wyoming', 2900.0), ('Oregon', 1000.0)]\n"
     ]
    }
   ],
   "source": [
    "# Khởi tạo và nạp dữ liệu\n",
    "g = Graph()\n",
    "g.load_csv(\"../data/Graph.csv\")\n",
    "g.show_graph()\n",
    "\n",
    "# Lấy danh sách kề của 1 đỉnh\n",
    "print(\"\\nCác đỉnh kề của California:\", g.get_neighbors(\"California\"))"
   ]
  },
  {
   "cell_type": "code",
   "execution_count": null,
   "metadata": {},
   "outputs": [],
   "source": []
  }
 ],
 "metadata": {
  "kernelspec": {
   "display_name": "base",
   "language": "python",
   "name": "python3"
  },
  "language_info": {
   "codemirror_mode": {
    "name": "ipython",
    "version": 3
   },
   "file_extension": ".py",
   "mimetype": "text/x-python",
   "name": "python",
   "nbconvert_exporter": "python",
   "pygments_lexer": "ipython3",
   "version": "3.12.5"
  }
 },
 "nbformat": 4,
 "nbformat_minor": 2
}
