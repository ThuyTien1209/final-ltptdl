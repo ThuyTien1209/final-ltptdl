{
 "cells": [
  {
   "cell_type": "code",
   "execution_count": 1,
   "metadata": {},
   "outputs": [],
   "source": [
    "class Vertex:\n",
    "    def __init__(self, name):\n",
    "\n",
    "        self.name = name\n",
    "        self.neighbor_vertices = {}  \n",
    "\n",
    "    def add_neighbor(self, neighbor_name, weight):\n",
    "\n",
    "        self.neighbor_vertices[neighbor_name] = weight\n",
    "\n",
    "    def __repr__(self):\n",
    "    \n",
    "        return f\"Đỉnh {self.name} có các đỉnh kề: {self.neighbor_vertices}\""
   ]
  }
 ],
 "metadata": {
  "kernelspec": {
   "display_name": "base",
   "language": "python",
   "name": "python3"
  },
  "language_info": {
   "codemirror_mode": {
    "name": "ipython",
    "version": 3
   },
   "file_extension": ".py",
   "mimetype": "text/x-python",
   "name": "python",
   "nbconvert_exporter": "python",
   "pygments_lexer": "ipython3",
   "version": "3.12.5"
  }
 },
 "nbformat": 4,
 "nbformat_minor": 2
}
