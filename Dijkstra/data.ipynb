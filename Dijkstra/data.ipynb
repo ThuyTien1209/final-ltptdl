{
 "cells": [
  {
   "cell_type": "code",
   "execution_count": 1,
   "metadata": {},
   "outputs": [
    {
     "name": "stdout",
     "output_type": "stream",
     "text": [
      "✅ Đã tạo file Graph.csv thành công!\n"
     ]
    }
   ],
   "source": [
    "import csv\n",
    "\n",
    "edges = [\n",
    "    (\"Michigan\", \"Tennessee\", 6600),\n",
    "    (\"Michigan\", \"Wyoming\", 5800),\n",
    "    (\"Michigan\", \"Colorado\", 4300),\n",
    "    (\"Michigan\", \"Kansas\", 6600),\n",
    "    (\"Tennessee\", \"Kansas\", 4100),\n",
    "    (\"Tennessee\", \"California\", 8100),\n",
    "    (\"Tennessee\", \"Montana\", 7800),\n",
    "    (\"California\", \"Houston\", 4700),\n",
    "    (\"California\", \"Colorado\", 1900),\n",
    "    (\"California\", \"Wyoming\", 2900),\n",
    "    (\"California\", \"Oregon\", 1000),\n",
    "    (\"Oregon\", \"Montana\", 1300),\n",
    "    (\"Oregon\", \"Wyoming\", 2500),\n",
    "    (\"Oregon\", \"Colorado\", 3400),\n",
    "    (\"Colorado\", \"Houston\", 9700),\n",
    "    (\"Colorado\", \"Kansas\", 3500),\n",
    "    (\"Kansas\", \"Houston\", 7800)\n",
    "]\n",
    "\n",
    "with open(\"Graph.csv\", \"w\", newline=\"\", encoding=\"utf-8\") as f:\n",
    "    writer = csv.writer(f)\n",
    "    writer.writerow([\"v_from\", \"v_to\", \"weight\"])\n",
    "    writer.writerows(edges)\n",
    "\n",
    "print(\"✅ Đã tạo file Graph.csv thành công!\")"
   ]
  }
 ],
 "metadata": {
  "kernelspec": {
   "display_name": "base",
   "language": "python",
   "name": "python3"
  },
  "language_info": {
   "codemirror_mode": {
    "name": "ipython",
    "version": 3
   },
   "file_extension": ".py",
   "mimetype": "text/x-python",
   "name": "python",
   "nbconvert_exporter": "python",
   "pygments_lexer": "ipython3",
   "version": "3.12.5"
  }
 },
 "nbformat": 4,
 "nbformat_minor": 2
}
