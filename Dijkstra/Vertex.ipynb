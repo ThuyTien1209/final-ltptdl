{
 "cells": [
  {
   "cell_type": "code",
   "execution_count": null,
   "id": "b90fb26c",
   "metadata": {},
   "outputs": [],
   "source": [
    "class Vertex:\n",
    "    def __init__(self, name):\n",
    "\n",
    "        self.name = name\n",
    "        self.neighbor_vertices = {}  \n",
    "\n",
    "    def add_neighbor(self, neighbor_name, weight):\n",
    "\n",
    "        self.neighbor_vertices[neighbor_name] = weight\n",
    "\n",
    "    def __repr__(self):\n",
    "    \n",
    "        return f\"Đỉnh {self.name} có các đỉnh kề: {self.neighbor_vertices}\"\n"
   ]
  }
 ],
 "metadata": {
  "language_info": {
   "name": "python"
  }
 },
 "nbformat": 4,
 "nbformat_minor": 5
}
